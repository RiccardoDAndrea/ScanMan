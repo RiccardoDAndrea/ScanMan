{
 "cells": [
  {
   "cell_type": "code",
   "execution_count": 1,
   "id": "f1a943ac",
   "metadata": {},
   "outputs": [],
   "source": [
    "from bs4 import BeautifulSoup\n",
    "import requests\n"
   ]
  },
  {
   "cell_type": "code",
   "execution_count": null,
   "id": "c1629fda",
   "metadata": {},
   "outputs": [],
   "source": []
  },
  {
   "cell_type": "code",
   "execution_count": null,
   "id": "d1d2f9ed",
   "metadata": {},
   "outputs": [],
   "source": []
  },
  {
   "cell_type": "code",
   "execution_count": 2,
   "id": "02ba7ae5",
   "metadata": {},
   "outputs": [],
   "source": [
    "url = \"https://toom.de/p/akku-kettensaege-gc-ks-18-li-kit-23-cm-18-v-mit-akku-und-ladegeraet/4102513\"\n",
    "headers = {\"User-Agent\": \"Mozilla/5.0\"}  # wichtig, sonst blocken manche Seiten\n",
    "\n",
    "response = requests.get(url, headers=headers)"
   ]
  },
  {
   "cell_type": "code",
   "execution_count": 3,
   "id": "8a9646d1",
   "metadata": {},
   "outputs": [],
   "source": [
    "if response.status_code == 200:\n",
    "        soup = BeautifulSoup(response.text, 'html.parser')\n",
    "\n",
    "        # Produktname\n",
    "        name = soup.find(\"h1\").get_text(strip=True)"
   ]
  },
  {
   "cell_type": "code",
   "execution_count": 12,
   "id": "2dae308d",
   "metadata": {},
   "outputs": [
    {
     "name": "stdout",
     "output_type": "stream",
     "text": [
      "None\n"
     ]
    }
   ],
   "source": [
    "import requests\n",
    "from bs4 import BeautifulSoup\n",
    "\n",
    "url = \"https://toom.de/p/laser-entfernungsmesser-distancecheck-25/1753254\"  # Replace with the actual URL\n",
    "response = requests.get(url)\n",
    "soup = BeautifulSoup(response.content, \"html.parser\")\n",
    "\n",
    "# Find the span element with the specific class\n",
    "price_element = soup.find(\"span\", class_=\"css-4s9deo\")\n",
    "\n",
    "\n",
    "print(price_element)\n",
    "\n"
   ]
  },
  {
   "cell_type": "code",
   "execution_count": 5,
   "id": "b2f3616e",
   "metadata": {},
   "outputs": [
    {
     "ename": "AttributeError",
     "evalue": "'NoneType' object has no attribute 'find'",
     "output_type": "error",
     "traceback": [
      "\u001b[31m---------------------------------------------------------------------------\u001b[39m",
      "\u001b[31mAttributeError\u001b[39m                            Traceback (most recent call last)",
      "\u001b[36mCell\u001b[39m\u001b[36m \u001b[39m\u001b[32mIn[5]\u001b[39m\u001b[32m, line 1\u001b[39m\n\u001b[32m----> \u001b[39m\u001b[32m1\u001b[39m current_div = \u001b[43mcurrent_div\u001b[49m\u001b[43m.\u001b[49m\u001b[43mfind\u001b[49m(\u001b[33m\"\u001b[39m\u001b[33mdiv\u001b[39m\u001b[33m\"\u001b[39m)\n\u001b[32m      2\u001b[39m current_div\n",
      "\u001b[31mAttributeError\u001b[39m: 'NoneType' object has no attribute 'find'"
     ]
    }
   ],
   "source": [
    "current_div = current_div.find(\"div\")\n",
    "current_div"
   ]
  },
  {
   "cell_type": "code",
   "execution_count": 14,
   "id": "2393250d",
   "metadata": {},
   "outputs": [
    {
     "name": "stdout",
     "output_type": "stream",
     "text": [
      "29,99 €\n"
     ]
    }
   ],
   "source": [
    "from selenium import webdriver\n",
    "from selenium.webdriver.common.by import By\n",
    "from selenium.webdriver.support.ui import WebDriverWait\n",
    "from selenium.webdriver.support import expected_conditions as EC\n",
    "\n",
    "url = \"https://toom.de/p/laser-entfernungsmesser-distancecheck-25/1753254\"\n",
    "\n",
    "# Initialize the webdriver (replace with the path to your driver if needed)\n",
    "driver = webdriver.Chrome()\n",
    "\n",
    "\n",
    "driver.get(url)\n",
    "\n",
    "# Wait for the element to be present in the DOM\n",
    "price_element = WebDriverWait(driver, 10).until(\n",
    "    EC.presence_of_element_located((By.CLASS_NAME, \"css-4s9deo\"))\n",
    ")\n",
    "\n",
    "# Now you can extract the text or inner HTML\n",
    "print(price_element.text)\n",
    "# Or:\n",
    "# print(price_element.get_attribute('innerHTML'))\n",
    "\n",
    "driver.quit()\n"
   ]
  },
  {
   "cell_type": "code",
   "execution_count": 30,
   "id": "77fbfbdf",
   "metadata": {},
   "outputs": [
    {
     "name": "stdout",
     "output_type": "stream",
     "text": [
      "Preis: 29,99€\n"
     ]
    }
   ],
   "source": [
    "from selenium import webdriver\n",
    "from bs4 import BeautifulSoup\n",
    "from selenium.webdriver.common.by import By\n",
    "from selenium.webdriver.support.ui import WebDriverWait\n",
    "from selenium.webdriver.support import expected_conditions as EC\n",
    "\n",
    "url = \"https://toom.de/p/laser-entfernungsmesser-distancecheck-25/1753254\"\n",
    "\n",
    "driver = webdriver.Chrome()\n",
    "driver.get(url)\n",
    "\n",
    "# Warte, bis der Preis da ist\n",
    "WebDriverWait(driver, 10).until(\n",
    "    EC.presence_of_element_located((By.CLASS_NAME, \"css-4s9deo\"))\n",
    ")\n",
    "\n",
    "# HTML an BeautifulSoup übergeben\n",
    "html = driver.page_source\n",
    "soup = BeautifulSoup(html, \"html.parser\")\n",
    "\n",
    "# Preis mit BeautifulSoup extrahieren\n",
    "price_el = soup.select_one(\".css-4s9deo\")\n",
    "if price_el:\n",
    "    print(\"Preis:\", price_el.get_text(strip=True))\n",
    "\n",
    "driver.quit()\n"
   ]
  },
  {
   "cell_type": "code",
   "execution_count": null,
   "id": "d350052c",
   "metadata": {},
   "outputs": [
    {
     "name": "stdout",
     "output_type": "stream",
     "text": [
      "Preis nicht gefunden\n"
     ]
    }
   ],
   "source": [
    "from selenium import webdriver\n",
    "from bs4 import BeautifulSoup\n",
    "from selenium.webdriver.common.by import By\n",
    "from selenium.webdriver.support.ui import WebDriverWait\n",
    "from selenium.webdriver.support import expected_conditions as EC\n",
    "\n",
    "url = \"https://toom.de/p/laser-entfernungsmesser-distancecheck-25/1753254\"\n",
    "\n",
    "driver = webdriver.Chrome()\n",
    "driver.get(url)\n",
    "\n",
    "# Warte, bis das Element mit data-testid vorhanden ist\n",
    "WebDriverWait(driver, 20).until(\n",
    "    EC.presence_of_element_located((By.CSS_SELECTOR, '[data-testid=\"price-box-pricing-current\"]'))\n",
    ")\n",
    "\n",
    "# HTML an BeautifulSoup übergeben\n",
    "html = driver.page_source\n",
    "soup = BeautifulSoup(html, \"html.parser\")\n",
    "\n",
    "# Preis über data-testid extrahieren\n",
    "price_el = soup.find(\"div\", attrs={\"data-testid\": \"price-box-pricing-current\"})\n",
    "if price_el:\n",
    "    print(\"Preis:\", price_el.get_text(strip=True))\n",
    "else:\n",
    "    print(\"Preis nicht gefunden\")\n",
    "\n",
    "driver.quit()\n"
   ]
  }
 ],
 "metadata": {
  "kernelspec": {
   "display_name": ".venv",
   "language": "python",
   "name": "python3"
  },
  "language_info": {
   "codemirror_mode": {
    "name": "ipython",
    "version": 3
   },
   "file_extension": ".py",
   "mimetype": "text/x-python",
   "name": "python",
   "nbconvert_exporter": "python",
   "pygments_lexer": "ipython3",
   "version": "3.11.13"
  }
 },
 "nbformat": 4,
 "nbformat_minor": 5
}
